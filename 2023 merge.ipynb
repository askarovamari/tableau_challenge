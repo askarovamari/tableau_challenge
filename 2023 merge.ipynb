{
 "cells": [
  {
   "cell_type": "code",
   "execution_count": 40,
   "id": "8e2e6d70-0c4e-42b2-911f-09bd2ee67f1d",
   "metadata": {},
   "outputs": [],
   "source": [
    "import pandas as pd\n",
    "import os"
   ]
  },
  {
   "cell_type": "code",
   "execution_count": 41,
   "id": "68609187-7d39-420b-8255-587ac7f227ce",
   "metadata": {},
   "outputs": [],
   "source": [
    "# replace with your folder's path\n",
    "folder_path = (\"Resources/2023\")"
   ]
  },
  {
   "cell_type": "code",
   "execution_count": 42,
   "id": "eb01ba44-f4cd-447a-a9fd-b5cf796d4a3a",
   "metadata": {},
   "outputs": [],
   "source": [
    "all_files = os.listdir(folder_path)"
   ]
  },
  {
   "cell_type": "code",
   "execution_count": 43,
   "id": "1bfdafe2-358b-47dd-b86c-fd67422bc194",
   "metadata": {},
   "outputs": [],
   "source": [
    "# Borrowed code https://raredogmarketing.com/resources/combining-multiple-csv-files-into-one-file-using-python-step-by-step-guide\n",
    "# Filter out non-CSV files\n",
    "csv_files = [f for f in all_files if f.endswith('.csv')]\n",
    "\n",
    "# Create a list to store the dataframes\n",
    "df_list = []\n",
    "\n",
    "for csv in csv_files:\n",
    "    file_path = os.path.join(folder_path, csv)\n",
    "    try:\n",
    "        # Try reading the file using default UTF-8 encoding\n",
    "        df = pd.read_csv(file_path)\n",
    "        df_list.append(df)\n",
    "    except UnicodeDecodeError:\n",
    "        try:\n",
    "            # If UTF-8 fails, try reading the file using UTF-16 encoding with tab separator\n",
    "            df = pd.read_csv(file_path, sep='\\t', encoding='utf-16')\n",
    "            df_list.append(df)\n",
    "        except Exception as e:\n",
    "            print(f\"Could not read file {csv} because of error: {e}\")\n",
    "    except Exception as e:\n",
    "        print(f\"Could not read file {csv} because of error: {e}\")"
   ]
  },
  {
   "cell_type": "code",
   "execution_count": 44,
   "id": "14bf86ec-8369-45ae-8945-8b20562cfad7",
   "metadata": {},
   "outputs": [],
   "source": [
    "big_df = pd.concat(df_list, ignore_index=True)"
   ]
  },
  {
   "cell_type": "code",
   "execution_count": 45,
   "id": "5b1da1ee-d4ab-4780-b650-ab49026834c4",
   "metadata": {},
   "outputs": [],
   "source": [
    "# Save the final result to a new CSV file\n",
    "big_df.to_csv(os.path.join(folder_path, 'combined_file_2023.csv'), index=False)"
   ]
  },
  {
   "cell_type": "code",
   "execution_count": null,
   "id": "ea9d1a66-d48d-4529-8607-93f99c5681d6",
   "metadata": {},
   "outputs": [],
   "source": []
  }
 ],
 "metadata": {
  "kernelspec": {
   "display_name": "Python 3 (ipykernel)",
   "language": "python",
   "name": "python3"
  },
  "language_info": {
   "codemirror_mode": {
    "name": "ipython",
    "version": 3
   },
   "file_extension": ".py",
   "mimetype": "text/x-python",
   "name": "python",
   "nbconvert_exporter": "python",
   "pygments_lexer": "ipython3",
   "version": "3.9.18"
  }
 },
 "nbformat": 4,
 "nbformat_minor": 5
}
